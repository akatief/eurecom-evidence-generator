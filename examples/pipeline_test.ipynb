{
 "cells": [
  {
   "cell_type": "markdown",
   "metadata": {
    "collapsed": true,
    "pycharm": {
     "name": "#%% md\n"
    }
   },
   "source": [
    "### Pipeline test ###\n",
    "\n",
    "In this notebook we will try a possible textual claim generation to be implemented later as part of the package"
   ]
  },
  {
   "cell_type": "code",
   "execution_count": 3,
   "metadata": {
    "pycharm": {
     "name": "#%%\n"
    }
   },
   "outputs": [
    {
     "data": {
      "text/plain": "hydra.initialize()"
     },
     "execution_count": 3,
     "metadata": {},
     "output_type": "execute_result"
    }
   ],
   "source": [
    "from hydra.core.global_hydra import GlobalHydra\n",
    "from hydra import initialize,compose\n",
    "from src.evidence import FeverousRetrieverRandom\n",
    "from src.pipeline import ClaimGeneratorPipeline\n",
    "from src.claim import FeverousGenerator\n",
    "from src.claim import ToTToGenerator\n",
    "from src.claim import TextualClaim\n",
    "import numpy as np\n",
    "import tensorflow_text\n",
    "import json\n",
    "import tensorflow as tf\n",
    "\n",
    "tf.get_logger().setLevel('ERROR')\n",
    "GlobalHydra.instance().clear()\n",
    "initialize(config_path='../src/config/', job_name=\"test_app\")"
   ]
  },
  {
   "cell_type": "code",
   "execution_count": 4,
   "outputs": [
    {
     "name": "stderr",
     "output_type": "stream",
     "text": [
      "2022-05-17 09:27:00.315708: W tensorflow/core/framework/cpu_allocator_impl.cc:82] Allocation of 131596288 exceeds 10% of free system memory.\n",
      "/home/akatief/PycharmProjects/eurecom-evidence-generator/venv/lib/python3.9/site-packages/spacy/util.py:275: UserWarning: [W031] Model 'en_core_web_sm' (2.2.0) requires spaCy v2.2 and is incompatible with the current spaCy version (2.3.2). This may lead to unexpected results or runtime errors. To resolve this, download a newer compatible model or retrain your custom model with the current spaCy version. For more details and available updates, run: python -m spacy validate\n",
      "  warnings.warn(warn_msg)\n"
     ]
    }
   ],
   "source": [
    "cfg = compose(config_name=\"config_pipeline\")\n",
    "rng = np.random.default_rng(cfg.seed)\n",
    "retrievers = [FeverousRetrieverRandom(p_dataset='../datasets/filtereddb_st_2.db',\n",
    "                                    num_evidence=1,\n",
    "                                    table_per_page=cfg.table_per_page,\n",
    "                                    evidence_per_table=cfg.evidence_per_table,\n",
    "                                    column_per_table=cfg.column_per_table,\n",
    "                                    seed=23,\n",
    "                                    key_strategy=strat\n",
    "                                    ) for strat in ['entity','random']]\n",
    "\n",
    "\n",
    "generator1 = FeverousGenerator(encoding='compact', model_path='../models/t5_train_feverous.bin')\n",
    "#generator2 = ToTToGenerator(encoding='totto', model_path='../models/exported_totto_large/1648208035')\n",
    "generator3 = ToTToGenerator(encoding='compact', model_path='../models/exported_totto_large/1648208035')\n",
    "\n",
    "generators = [generator3]\n",
    "\n",
    "pipeline = ClaimGeneratorPipeline([retrievers,generators])\n",
    "claims = pipeline.generate() # Right now, FeverousRetriever doesn't support an input table\n",
    "\n",
    "json_evidence = TextualClaim.to_json(claims)\n",
    "\n",
    "with open('data.json', 'w', encoding='utf-8') as f:\n",
    "    json.dump(json_evidence, f, ensure_ascii=False, indent=4)\n"
   ],
   "metadata": {
    "collapsed": false,
    "pycharm": {
     "name": "#%%\n"
    }
   }
  },
  {
   "cell_type": "code",
   "execution_count": 4,
   "metadata": {
    "pycharm": {
     "name": "#%%\n"
    }
   },
   "outputs": [],
   "source": []
  }
 ],
 "metadata": {
  "kernelspec": {
   "name": "python3",
   "language": "python",
   "display_name": "Python 3 (ipykernel)"
  },
  "language_info": {
   "codemirror_mode": {
    "name": "ipython",
    "version": 3
   },
   "file_extension": ".py",
   "mimetype": "text/x-python",
   "name": "python",
   "nbconvert_exporter": "python",
   "pygments_lexer": "ipython3",
   "version": "3.8.10"
  }
 },
 "nbformat": 4,
 "nbformat_minor": 1
}