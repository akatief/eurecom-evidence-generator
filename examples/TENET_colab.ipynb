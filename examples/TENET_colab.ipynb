{
 "nbformat": 4,
 "nbformat_minor": 0,
 "metadata": {
  "colab": {
   "name": "TENET_pipeline.ipynb",
   "provenance": []
  },
  "kernelspec": {
   "name": "python3",
   "display_name": "Python 3"
  },
  "language_info": {
   "name": "python"
  },
  "accelerator": "GPU"
 },
 "cells": [
  {
   "cell_type": "markdown",
   "source": [
    "# TENET: TExtual traiNing Examples from daTa"
   ],
   "metadata": {
    "id": "kytiNGyESHjP",
    "pycharm": {
     "name": "#%% md\n"
    }
   }
  },
  {
   "cell_type": "markdown",
   "source": [
    "Google Colab pipeline to make TENET run. Just press 'Run all'. \n",
    "\n",
    "Experiment settings can be edited under Configurations. ```active_cfg``` contains the current configuration to be run."
   ],
   "metadata": {
    "id": "LNN_p6dkSLNr",
    "pycharm": {
     "name": "#%% md\n"
    }
   }
  },
  {
   "cell_type": "markdown",
   "source": [
    "## Setup\n",
    "\n"
   ],
   "metadata": {
    "id": "EPZkCDulMMZa",
    "pycharm": {
     "name": "#%% md\n"
    }
   }
  },
  {
   "cell_type": "markdown",
   "source": [
    "Run this section to install the project in the local Colab folder."
   ],
   "metadata": {
    "id": "5RYGFSeOWjlK",
    "pycharm": {
     "name": "#%% md\n"
    }
   }
  },
  {
   "cell_type": "code",
   "execution_count": null,
   "metadata": {
    "id": "r-IOvtp8yEVD",
    "colab": {
     "base_uri": "https://localhost:8080/"
    },
    "outputId": "f0b3af99-7195-4465-9fca-9c4f4dc8de80",
    "pycharm": {
     "name": "#%%\n",
     "is_executing": true
    }
   },
   "outputs": [],
   "source": [
    "%cd /content\n",
    "%rm -rf eurecom-evidence-generator/\n",
    "!git clone https://github.com/akatief/eurecom-evidence-generator.git\n",
    "%cd eurecom-evidence-generator\n",
    "!git checkout origin/develop"
   ]
  },
  {
   "cell_type": "code",
   "source": [
    "!pip install -r requirements.txt\n",
    "!pip install --no-deps feverous"
   ],
   "metadata": {
    "id": "-ORpSB13SDRN",
    "colab": {
     "base_uri": "https://localhost:8080/",
     "height": 1000
    },
    "outputId": "71c28d8e-7b1b-4b46-ddab-4df5634eb9ce",
    "pycharm": {
     "name": "#%%\n",
     "is_executing": true
    }
   },
   "execution_count": null,
   "outputs": []
  },
  {
   "cell_type": "code",
   "source": [
    "from google.colab import drive\n",
    "drive.mount('/content/drive')"
   ],
   "metadata": {
    "colab": {
     "base_uri": "https://localhost:8080/"
    },
    "id": "uVlVwqKNXA5f",
    "outputId": "cd58e977-550d-48c5-e77f-d513d8a6a154",
    "pycharm": {
     "name": "#%%\n",
     "is_executing": true
    }
   },
   "execution_count": null,
   "outputs": []
  },
  {
   "cell_type": "markdown",
   "source": [
    "## Configurations"
   ],
   "metadata": {
    "id": "ucy6kKjfHeMg",
    "pycharm": {
     "name": "#%% md\n"
    }
   }
  },
  {
   "cell_type": "markdown",
   "source": [
    "Customize your experiment by creating a new config. Note that you must have a valid FEVEROUS database and ToTTo model image on your Google Drive."
   ],
   "metadata": {
    "id": "cCPe47peWk4i",
    "pycharm": {
     "name": "#%% md\n"
    }
   }
  },
  {
   "cell_type": "code",
   "source": [
    "class cfg:\n",
    "  def __init__(self,data_path, model_path, positive_evidence, negative_evidence,\n",
    "               table_type, wrong_cell, table_per_page, evidence_per_table,\n",
    "               column_per_table, seed, strat):\n",
    "    self.data_path = data_path\n",
    "    self.model_path = model_path\n",
    "    self.positive_evidence = positive_evidence\n",
    "    self.negative_evidence = negative_evidence\n",
    "    self.table_type = table_type\n",
    "    self.wrong_cell = wrong_cell\n",
    "    self.table_per_page = table_per_page\n",
    "    self.evidence_per_table = evidence_per_table\n",
    "    self.column_per_table= column_per_table\n",
    "    self.seed = seed\n",
    "    self.strat = strat\n",
    "\n",
    "# Set to your model path and desired configuration\n",
    "cfg1 = cfg(data_path = '/content/drive/MyDrive/Datasets/filtereddb_st_2.db', model_path = '/content/drive/MyDrive/Colab Notebooks/exported_totto_large/1648208035/',\n",
    "           positive_evidence = 4000, negative_evidence = 0, table_type='both', wrong_cell = 0, table_per_page = 1,\n",
    "           evidence_per_table = 1, column_per_table= 2, seed = 2022, strat = 'entity')\n",
    "\n",
    "#cfg2 = ..."
   ],
   "metadata": {
    "id": "rRFsRNGDICE-",
    "pycharm": {
     "name": "#%%\n"
    }
   },
   "execution_count": null,
   "outputs": []
  },
  {
   "cell_type": "code",
   "source": [
    "active_cfg = cfg1"
   ],
   "metadata": {
    "id": "PbiXJOGzJqw6",
    "pycharm": {
     "name": "#%%\n"
    }
   },
   "execution_count": null,
   "outputs": []
  },
  {
   "cell_type": "markdown",
   "source": [
    "## Experiment"
   ],
   "metadata": {
    "id": "eDThk_v9Hgr7",
    "pycharm": {
     "name": "#%% md\n"
    }
   }
  },
  {
   "cell_type": "markdown",
   "source": [
    "Finally, run the claim generation pipeline. "
   ],
   "metadata": {
    "id": "LHgZYxGdXcAz",
    "pycharm": {
     "name": "#%% md\n"
    }
   }
  },
  {
   "cell_type": "code",
   "source": [
    "%cd /content/eurecom-evidence-generator/\n",
    "\n",
    "import json\n",
    "from src.claim import TextualClaim\n",
    "from src.claim import ToTToGenerator\n",
    "from src.pipeline import ClaimGeneratorPipeline\n",
    "from src.evidence.feverous_retriever.random import FeverousRetrieverRandom\n",
    "\n",
    "retriever = FeverousRetrieverRandom(p_dataset=active_cfg.data_path,\n",
    "                                    num_positive=active_cfg.positive_evidence,\n",
    "                                    num_negative=active_cfg.negative_evidence,\n",
    "                                    table_type=active_cfg.table_type,\n",
    "                                    wrong_cell=active_cfg.wrong_cell,\n",
    "                                    table_per_page=active_cfg.table_per_page,\n",
    "                                    evidence_per_table=active_cfg.evidence_per_table,\n",
    "                                    column_per_table=active_cfg.column_per_table,\n",
    "                                    seed=active_cfg.seed,\n",
    "                                    key_strategy=active_cfg.strat,\n",
    "                                    )\n",
    "\n",
    "generator = ToTToGenerator(encoding='totto', model_path=active_cfg.model_path)\n",
    "\n",
    "\n",
    "pipeline = ClaimGeneratorPipeline([retriever, generator])\n",
    "\n",
    "claims = pipeline.generate()"
   ],
   "metadata": {
    "id": "5la5dQnxREjh",
    "colab": {
     "base_uri": "https://localhost:8080/",
     "height": 1000
    },
    "outputId": "060e7602-dbe9-42df-d50b-ab93929a661a",
    "pycharm": {
     "name": "#%%\n",
     "is_executing": true
    }
   },
   "execution_count": null,
   "outputs": []
  },
  {
   "cell_type": "code",
   "execution_count": null,
   "outputs": [],
   "source": [
    "json_evidence = TextualClaim.to_json(claims)\n",
    "\n",
    "%cd /content/drive/MyDrive/\n",
    "file_name='./data_'\n",
    "file_name += f'col_{active_cfg.column_per_table}_'\n",
    "file_name += f'strategy_{active_cfg.strat}_'\n",
    "file_name += f'positive_{ len([1 for c in claims if c.evidence.label==\"SUPPORTS\"])}_'\n",
    "file_name += f'negative_{ len([1 for c in claims if c.evidence.label==\"REFUTES\"])}_'\n",
    "file_name += f'table_type_{active_cfg.table_type}.json'\n",
    "\n",
    "with open(file_name, 'w', encoding='utf-8') as f:\n",
    "    json.dump(json_evidence, f, ensure_ascii=False, indent=4)"
   ],
   "metadata": {
    "collapsed": false,
    "pycharm": {
     "name": "#%%\n"
    }
   }
  }
 ]
}