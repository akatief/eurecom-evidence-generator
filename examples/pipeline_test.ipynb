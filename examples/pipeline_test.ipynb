{
 "cells": [
  {
   "cell_type": "markdown",
   "metadata": {
    "collapsed": true,
    "pycharm": {
     "name": "#%% md\n"
    }
   },
   "source": [
    "### Pipeline test ###\n",
    "\n",
    "In this notebook we will try a possible textual claim generation to be implemented later as part of the package"
   ]
  },
  {
   "cell_type": "code",
   "execution_count": 1,
   "metadata": {
    "pycharm": {
     "name": "#%%\n"
    }
   },
   "outputs": [
    {
     "name": "stderr",
     "output_type": "stream",
     "text": [
      "Since the GPL-licensed package `unidecode` is not installed, using Python's `unicodedata` package which yields worse results.\n",
      "2022-05-05 22:15:51.623639: W tensorflow/stream_executor/platform/default/dso_loader.cc:64] Could not load dynamic library 'libcudart.so.11.0'; dlerror: libcudart.so.11.0: cannot open shared object file: No such file or directory\n",
      "2022-05-05 22:15:51.623658: I tensorflow/stream_executor/cuda/cudart_stub.cc:29] Ignore above cudart dlerror if you do not have a GPU set up on your machine.\n"
     ]
    },
    {
     "data": {
      "text/plain": "hydra.initialize()"
     },
     "execution_count": 1,
     "metadata": {},
     "output_type": "execute_result"
    }
   ],
   "source": [
    "from hydra.core.global_hydra import GlobalHydra\n",
    "from hydra import initialize,compose\n",
    "from src.evidence import FeverousRetrieverRandom\n",
    "from src.pipeline import ClaimGeneratorPipeline\n",
    "from src.claim import FeverousGenerator\n",
    "from src.claim import ToTToGenerator\n",
    "import numpy as np\n",
    "import tensorflow_text\n",
    "import json\n",
    "import tensorflow as tf\n",
    "\n",
    "tf.get_logger().setLevel('ERROR')\n",
    "GlobalHydra.instance().clear()\n",
    "initialize(config_path='../src/config/', job_name=\"test_app\")"
   ]
  },
  {
   "cell_type": "code",
   "execution_count": 2,
   "outputs": [
    {
     "name": "stderr",
     "output_type": "stream",
     "text": [
      "2022-05-05 22:15:54.169617: I tensorflow/stream_executor/cuda/cuda_gpu_executor.cc:936] successful NUMA node read from SysFS had negative value (-1), but there must be at least one NUMA node, so returning NUMA node zero\n",
      "2022-05-05 22:15:54.170101: W tensorflow/stream_executor/platform/default/dso_loader.cc:64] Could not load dynamic library 'libcudart.so.11.0'; dlerror: libcudart.so.11.0: cannot open shared object file: No such file or directory\n",
      "2022-05-05 22:15:54.170160: W tensorflow/stream_executor/platform/default/dso_loader.cc:64] Could not load dynamic library 'libcublas.so.11'; dlerror: libcublas.so.11: cannot open shared object file: No such file or directory\n",
      "2022-05-05 22:15:54.170204: W tensorflow/stream_executor/platform/default/dso_loader.cc:64] Could not load dynamic library 'libcublasLt.so.11'; dlerror: libcublasLt.so.11: cannot open shared object file: No such file or directory\n",
      "2022-05-05 22:15:54.173993: W tensorflow/stream_executor/platform/default/dso_loader.cc:64] Could not load dynamic library 'libcusolver.so.11'; dlerror: libcusolver.so.11: cannot open shared object file: No such file or directory\n",
      "2022-05-05 22:15:54.174045: W tensorflow/stream_executor/platform/default/dso_loader.cc:64] Could not load dynamic library 'libcusparse.so.11'; dlerror: libcusparse.so.11: cannot open shared object file: No such file or directory\n",
      "2022-05-05 22:15:54.174093: W tensorflow/stream_executor/platform/default/dso_loader.cc:64] Could not load dynamic library 'libcudnn.so.8'; dlerror: libcudnn.so.8: cannot open shared object file: No such file or directory\n",
      "2022-05-05 22:15:54.174101: W tensorflow/core/common_runtime/gpu/gpu_device.cc:1850] Cannot dlopen some GPU libraries. Please make sure the missing libraries mentioned above are installed properly if you would like to use GPU. Follow the guide at https://www.tensorflow.org/install/gpu for how to download and setup the required libraries for your platform.\n",
      "Skipping registering GPU devices...\n",
      "2022-05-05 22:15:54.174283: I tensorflow/core/platform/cpu_feature_guard.cc:151] This TensorFlow binary is optimized with oneAPI Deep Neural Network Library (oneDNN) to use the following CPU instructions in performance-critical operations:  AVX2 FMA\n",
      "To enable them in other operations, rebuild TensorFlow with the appropriate compiler flags.\n",
      "ERROR logger 2022-05-05 22:16:08,238 | utils.py:26 | b'got Error \"TableExceptionType.NO_ENOUGH_ROW\" for wikipage \"2010 United States Senate special election in Massachusetts\"'\n",
      "ERROR logger 2022-05-05 22:16:08,258 | utils.py:26 | b'got Error \"TableExceptionType.NO_ENOUGH_ROW\" for wikipage \"1983 Leeds City Council election\"'\n",
      "ERROR logger 2022-05-05 22:16:08,265 | utils.py:26 | b'got Error \"TableExceptionType.SUBTABLE_NOT_FOUND\" for wikipage \"Genie Francis\"'\n"
     ]
    }
   ],
   "source": [
    "cfg = compose(config_name=\"config_pipeline\")\n",
    "rng = np.random.default_rng(cfg.seed)\n",
    "retriever = FeverousRetrieverRandom(p_dataset='../datasets/filtereddb4.db',\n",
    "                                    num_evidence=cfg.num_evidence,\n",
    "                                    table_per_page=cfg.table_per_page,\n",
    "                                    evidence_per_table=cfg.evidence_per_table,\n",
    "                                    column_per_table=cfg.column_per_table,\n",
    "                                    seed=cfg.seed,\n",
    "                                    key_strategy='sensible'\n",
    "                                    )\n",
    "#generator = FeverousGenerator(encoding='compact', model_path='../models/t5_train_feverous.bin')\n",
    "generator = ToTToGenerator(encoding='totto', model_path='../models/exported_totto_large/1648208035')\n",
    "\n",
    "pipeline = ClaimGeneratorPipeline([retriever,generator])\n",
    "claims = pipeline.generate() # Right now, FeverousRetriever doesn't support an input table\n",
    "\n",
    "json_evidence = [c.json for c in claims]\n",
    "#output, text_evidence = generator.generate(output)\n",
    "#for i, (t, e, j) in enumerate(zip(text, encoded_evidence, json_evidence)):\n",
    "#    print(f'Claim {i}: ')\n",
    "#    print('Generated: ', t)\n",
    "#    print('Evidence : ', e)\n",
    "#    print('Json: ', j)\n",
    "\n",
    "with open('data.json', 'w', encoding='utf-8') as f:\n",
    "    json.dump(json_evidence, f, ensure_ascii=False, indent=4)\n"
   ],
   "metadata": {
    "collapsed": false,
    "pycharm": {
     "name": "#%%\n"
    }
   }
  },
  {
   "cell_type": "code",
   "execution_count": 2,
   "metadata": {
    "pycharm": {
     "name": "#%%\n"
    }
   },
   "outputs": [],
   "source": []
  }
 ],
 "metadata": {
  "kernelspec": {
   "name": "python3",
   "language": "python",
   "display_name": "Python 3 (ipykernel)"
  },
  "language_info": {
   "codemirror_mode": {
    "name": "ipython",
    "version": 3
   },
   "file_extension": ".py",
   "mimetype": "text/x-python",
   "name": "python",
   "nbconvert_exporter": "python",
   "pygments_lexer": "ipython3",
   "version": "3.8.10"
  }
 },
 "nbformat": 4,
 "nbformat_minor": 1
}