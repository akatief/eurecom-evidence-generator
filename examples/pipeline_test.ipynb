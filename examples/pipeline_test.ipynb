{
 "cells": [
  {
   "cell_type": "markdown",
   "metadata": {
    "collapsed": true,
    "pycharm": {
     "name": "#%% md\n"
    }
   },
   "source": [
    "### Pipeline test ###\n",
    "\n",
    "In this notebook we will try a possible textual claim generation to be implemented later as part of the package"
   ]
  },
  {
   "cell_type": "code",
   "execution_count": 3,
   "outputs": [
    {
     "data": {
      "text/plain": "hydra.initialize()"
     },
     "execution_count": 3,
     "metadata": {},
     "output_type": "execute_result"
    }
   ],
   "source": [
    "from hydra.core.global_hydra import GlobalHydra\n",
    "from hydra import initialize,compose\n",
    "from src.evidence import FeverousRetrieverRandom\n",
    "from src.pipeline import ClaimGeneratorPipeline\n",
    "from src.claim import FeverousGenerator\n",
    "from src.claim import ToTToGenerator\n",
    "from src.claim import TextualClaim\n",
    "import numpy as np\n",
    "import tensorflow_text\n",
    "import json\n",
    "import tensorflow as tf\n",
    "\n",
    "tf.get_logger().setLevel('ERROR')\n",
    "GlobalHydra.instance().clear()\n",
    "initialize(config_path='../src/config/', job_name=\"test_app\")"
   ],
   "metadata": {
    "collapsed": false,
    "pycharm": {
     "name": "#%%\n"
    }
   }
  },
  {
   "cell_type": "code",
   "execution_count": 4,
   "outputs": [
    {
     "name": "stderr",
     "output_type": "stream",
     "text": [
      "INFO logger 2022-06-02 22:05:09,490 | feverous_retriever.py:115 | b' wikipage: Carrot soup'\n",
      "INFO logger 2022-06-02 22:05:09,519 | feverous_retriever.py:115 | b' wikipage: Rhytiphora obscura'\n",
      "INFO logger 2022-06-02 22:05:09,523 | feverous_retriever.py:115 | b' wikipage: Tired Eyes Slowly Burning'\n",
      "INFO logger 2022-06-02 22:05:09,524 | feverous_retriever.py:115 | b' wikipage: Vadia (Narmada)'\n",
      "INFO logger 2022-06-02 22:05:09,527 | feverous_retriever.py:115 | b' wikipage: Saint-Hubert Air Base'\n",
      "INFO logger 2022-06-02 22:05:09,529 | feverous_retriever.py:115 | b' wikipage: Megachile rambutwan'\n",
      "INFO logger 2022-06-02 22:05:09,531 | feverous_retriever.py:115 | b' wikipage: Manfred Hellmann'\n",
      "INFO logger 2022-06-02 22:05:09,534 | feverous_retriever.py:115 | b' wikipage: Richard Do\\xcc\\x88cker'\n",
      "INFO logger 2022-06-02 22:05:09,535 | feverous_retriever.py:115 | b' wikipage: 1949 Western Michigan Broncos football team'\n",
      "/home/akatief/PycharmProjects/eurecom-evidence-generator/venv/lib/python3.9/site-packages/spacy/util.py:275: UserWarning: [W031] Model 'en_core_web_sm' (2.2.0) requires spaCy v2.2 and is incompatible with the current spaCy version (2.3.2). This may lead to unexpected results or runtime errors. To resolve this, download a newer compatible model or retrain your custom model with the current spaCy version. For more details and available updates, run: python -m spacy validate\n",
      "  warnings.warn(warn_msg)\n",
      "INFO logger 2022-06-02 22:05:10,387 | feverous_retriever_random.py:124 | b\"Page: 1949 Western Michigan Broncos football team table_1 Selected headers: ['[H] Date', '[H] Result']\"\n",
      "ERROR logger 2022-06-02 22:05:10,389 | utils.py:33 | b'got Error \"TableExceptionType.NO_ENOUGH_COL\" for wikipage \"1949 Western Michigan Broncos football team\"'\n",
      "ERROR logger 2022-06-02 22:05:10,389 | utils.py:33 | b'got Error \"TableExceptionType.NO_ENOUGH_TBL\" for wikipage \"_title\"'\n",
      "INFO logger 2022-06-02 22:05:10,389 | feverous_retriever.py:115 | b' wikipage: Drawn from Life'\n",
      "INFO logger 2022-06-02 22:05:10,390 | feverous_retriever.py:115 | b' wikipage: The Society of Orpheus and Bacchus'\n",
      "ERROR logger 2022-06-02 22:05:10,392 | utils.py:33 | b'got Error \"TableExceptionType.NO_ENOUGH_COL\" for wikipage \"The Society of Orpheus and Bacchus\"'\n",
      "ERROR logger 2022-06-02 22:05:10,392 | utils.py:33 | b'got Error \"TableExceptionType.NO_ENOUGH_COL\" for wikipage \"The Society of Orpheus and Bacchus\"'\n",
      "ERROR logger 2022-06-02 22:05:10,393 | utils.py:33 | b'got Error \"TableExceptionType.NO_ENOUGH_TBL\" for wikipage \"_title\"'\n",
      "INFO logger 2022-06-02 22:05:10,393 | feverous_retriever.py:115 | b' wikipage: Pleurocarpaea'\n",
      "INFO logger 2022-06-02 22:05:10,394 | feverous_retriever.py:115 | b' wikipage: You Are We'\n",
      "ERROR logger 2022-06-02 22:05:10,396 | utils.py:33 | b'got Error \"TableExceptionType.NO_ENOUGH_COL\" for wikipage \"You Are We\"'\n",
      "ERROR logger 2022-06-02 22:05:10,397 | utils.py:33 | b'got Error \"TableExceptionType.NO_ENOUGH_COL\" for wikipage \"You Are We\"'\n",
      "ERROR logger 2022-06-02 22:05:10,397 | utils.py:33 | b'got Error \"TableExceptionType.NO_ENOUGH_TBL\" for wikipage \"_title\"'\n",
      "INFO logger 2022-06-02 22:05:10,397 | feverous_retriever.py:115 | b' wikipage: So\\xc5\\x82ki, Podlaskie Voivodeship'\n",
      "INFO logger 2022-06-02 22:05:10,398 | feverous_retriever.py:115 | b' wikipage: Schinia maculata'\n",
      "INFO logger 2022-06-02 22:05:10,399 | feverous_retriever.py:115 | b' wikipage: Ernest Woodford Birch'\n",
      "INFO logger 2022-06-02 22:05:10,401 | feverous_retriever.py:115 | b' wikipage: Christmas in the Heart'\n",
      "ERROR logger 2022-06-02 22:05:10,402 | utils.py:33 | b'got Error \"TableExceptionType.NO_ENOUGH_COL\" for wikipage \"Christmas in the Heart\"'\n",
      "ERROR logger 2022-06-02 22:05:10,403 | utils.py:33 | b'got Error \"TableExceptionType.NO_ENOUGH_COL\" for wikipage \"Christmas in the Heart\"'\n",
      "ERROR logger 2022-06-02 22:05:10,403 | utils.py:33 | b'got Error \"TableExceptionType.NO_ENOUGH_TBL\" for wikipage \"_title\"'\n",
      "INFO logger 2022-06-02 22:05:10,404 | feverous_retriever.py:115 | b' wikipage: Strypi'\n",
      "INFO logger 2022-06-02 22:05:10,405 | feverous_retriever.py:115 | b' wikipage: 2 On'\n",
      "ERROR logger 2022-06-02 22:05:10,408 | utils.py:33 | b'got Error \"TableExceptionType.NO_NEGATIVE_SENT\" for wikipage \"2 On\"'\n",
      "ERROR logger 2022-06-02 22:05:10,408 | utils.py:33 | b'got Error \"TableExceptionType.NO_ENOUGH_COL\" for wikipage \"2 On\"'\n",
      "ERROR logger 2022-06-02 22:05:10,409 | utils.py:33 | b'got Error \"TableExceptionType.NO_ENOUGH_TBL\" for wikipage \"_title\"'\n",
      "INFO logger 2022-06-02 22:05:10,409 | feverous_retriever.py:115 | b' wikipage: Nuestra casa a la izquierda del tiempo'\n",
      "INFO logger 2022-06-02 22:05:10,410 | feverous_retriever.py:115 | b' wikipage: Normandy American Cemetery and Memorial'\n",
      "INFO logger 2022-06-02 22:05:10,412 | feverous_retriever.py:115 | b' wikipage: Yale Model Government Europe'\n",
      "INFO logger 2022-06-02 22:05:10,413 | feverous_retriever.py:115 | b' wikipage: Zhongwei Shapotou Airport'\n",
      "ERROR logger 2022-06-02 22:05:10,414 | utils.py:33 | b'got Error \"TableExceptionType.NO_ENOUGH_COL\" for wikipage \"Zhongwei Shapotou Airport\"'\n",
      "ERROR logger 2022-06-02 22:05:10,415 | utils.py:33 | b'got Error \"TableExceptionType.NO_ENOUGH_COL\" for wikipage \"Zhongwei Shapotou Airport\"'\n",
      "ERROR logger 2022-06-02 22:05:10,415 | utils.py:33 | b'got Error \"TableExceptionType.NO_ENOUGH_TBL\" for wikipage \"_title\"'\n",
      "INFO logger 2022-06-02 22:05:10,415 | feverous_retriever.py:115 | b' wikipage: 1974 Nicaraguan general election'\n",
      "ERROR logger 2022-06-02 22:05:12,045 | utils.py:33 | b'got Error \"TableExceptionType.ID_NOT_COMPLIANT\" for wikipage \"1974 Nicaraguan general election\"'\n",
      "INFO logger 2022-06-02 22:05:12,642 | feverous_retriever_random.py:124 | b\"Page: 1974 Nicaraguan general election table_1 Selected headers: ['[H] Seats/ Senate', '[H] Parties and alliances']\"\n",
      "ERROR logger 2022-06-02 22:05:12,643 | utils.py:33 | b'got Error \"TableExceptionType.NO_ENOUGH_TBL\" for wikipage \"_title\"'\n",
      "INFO logger 2022-06-02 22:05:12,643 | feverous_retriever.py:115 | b' wikipage: Herbert Albrecht'\n",
      "INFO logger 2022-06-02 22:05:12,645 | feverous_retriever.py:115 | b' wikipage: Mike Olt'\n",
      "INFO logger 2022-06-02 22:05:12,646 | feverous_retriever.py:115 | b' wikipage: Christopher Brathwaite'\n",
      "INFO logger 2022-06-02 22:05:12,647 | feverous_retriever.py:115 | b' wikipage: 2005\\xe2\\x80\\x9306 Mongolia Hockey League season'\n",
      "INFO logger 2022-06-02 22:05:12,649 | feverous_retriever.py:115 | b' wikipage: Horta Nord'\n",
      "INFO logger 2022-06-02 22:05:12,650 | feverous_retriever.py:115 | b' wikipage: Early 21st Century Romanticism'\n",
      "INFO logger 2022-06-02 22:05:12,651 | feverous_retriever.py:115 | b' wikipage: National Brain Tumor Society'\n",
      "INFO logger 2022-06-02 22:05:12,653 | feverous_retriever.py:115 | b' wikipage: Tunapuna\\xe2\\x80\\x93Piarco'\n",
      "ERROR logger 2022-06-02 22:05:12,654 | utils.py:33 | b'got Error \"TableExceptionType.NO_ENOUGH_COL\" for wikipage \"Tunapuna\\xe2\\x80\\x93Piarco\"'\n",
      "ERROR logger 2022-06-02 22:05:12,655 | utils.py:33 | b'got Error \"TableExceptionType.NO_ENOUGH_COL\" for wikipage \"Tunapuna\\xe2\\x80\\x93Piarco\"'\n",
      "ERROR logger 2022-06-02 22:05:12,655 | utils.py:33 | b'got Error \"TableExceptionType.NO_ENOUGH_TBL\" for wikipage \"_title\"'\n",
      "INFO logger 2022-06-02 22:05:12,655 | feverous_retriever.py:115 | b' wikipage: Captain Moonlite'\n",
      "INFO logger 2022-06-02 22:05:12,657 | feverous_retriever.py:115 | b' wikipage: Pavlovia'\n",
      "INFO logger 2022-06-02 22:05:12,658 | feverous_retriever.py:115 | b\" wikipage: World's End Murders\"\n",
      "ERROR logger 2022-06-02 22:05:12,659 | utils.py:33 | b'got Error \"TableExceptionType.NO_ENOUGH_COL\" for wikipage \"World\\'s End Murders\"'\n",
      "ERROR logger 2022-06-02 22:05:12,659 | utils.py:33 | b'got Error \"TableExceptionType.NO_ENOUGH_COL\" for wikipage \"World\\'s End Murders\"'\n",
      "ERROR logger 2022-06-02 22:05:12,660 | utils.py:33 | b'got Error \"TableExceptionType.NO_ENOUGH_TBL\" for wikipage \"_title\"'\n",
      "INFO logger 2022-06-02 22:05:12,660 | feverous_retriever.py:115 | b' wikipage: 2017 La Course by Le Tour de France'\n",
      "INFO logger 2022-06-02 22:05:13,318 | feverous_retriever_random.py:124 | b\"Page: 2017 La Course by Le Tour de France table_1 Selected headers: ['[H] Rank', '[H] Rider']\"\n",
      "INFO logger 2022-06-02 22:05:14,045 | feverous_retriever_random.py:124 | b\"Page: 2017 La Course by Le Tour de France table_0 Selected headers: ['[H] Rider', '[H] Team']\"\n",
      "INFO logger 2022-06-02 22:05:14,047 | feverous_retriever.py:115 | b' wikipage: Battle of Carmona'\n",
      "INFO logger 2022-06-02 22:05:14,049 | feverous_retriever.py:115 | b' wikipage: Epilasia'\n",
      "INFO logger 2022-06-02 22:05:14,050 | feverous_retriever.py:115 | b' wikipage: 1972\\xe2\\x80\\x9373 Kentucky Colonels season'\n",
      "ERROR logger 2022-06-02 22:05:14,054 | utils.py:33 | b'got Error \"TableExceptionType.NO_HEADERS\" for wikipage \"1972\\xe2\\x80\\x9373 Kentucky Colonels season\"'\n"
     ]
    },
    {
     "ename": "KeyboardInterrupt",
     "evalue": "",
     "output_type": "error",
     "traceback": [
      "\u001B[0;31m---------------------------------------------------------------------------\u001B[0m",
      "\u001B[0;31mKeyboardInterrupt\u001B[0m                         Traceback (most recent call last)",
      "Input \u001B[0;32mIn [4]\u001B[0m, in \u001B[0;36m<cell line: 23>\u001B[0;34m()\u001B[0m\n\u001B[1;32m     20\u001B[0m generators \u001B[38;5;241m=\u001B[39m [generator3]\n\u001B[1;32m     22\u001B[0m pipeline \u001B[38;5;241m=\u001B[39m ClaimGeneratorPipeline([retrievers,generators])\n\u001B[0;32m---> 23\u001B[0m claims \u001B[38;5;241m=\u001B[39m \u001B[43mpipeline\u001B[49m\u001B[38;5;241;43m.\u001B[39;49m\u001B[43mgenerate\u001B[49m\u001B[43m(\u001B[49m\u001B[43m)\u001B[49m \u001B[38;5;66;03m# Right now, FeverousRetriever doesn't support an input table\u001B[39;00m\n\u001B[1;32m     26\u001B[0m json_evidence \u001B[38;5;241m=\u001B[39m TextualClaim\u001B[38;5;241m.\u001B[39mto_json(claims)\n\u001B[1;32m     27\u001B[0m \u001B[38;5;28;01mwith\u001B[39;00m \u001B[38;5;28mopen\u001B[39m(\u001B[38;5;124m'\u001B[39m\u001B[38;5;124mdata.json\u001B[39m\u001B[38;5;124m'\u001B[39m, \u001B[38;5;124m'\u001B[39m\u001B[38;5;124mw\u001B[39m\u001B[38;5;124m'\u001B[39m, encoding\u001B[38;5;241m=\u001B[39m\u001B[38;5;124m'\u001B[39m\u001B[38;5;124mutf-8\u001B[39m\u001B[38;5;124m'\u001B[39m) \u001B[38;5;28;01mas\u001B[39;00m f:\n",
      "File \u001B[0;32m~/PycharmProjects/eurecom-evidence-generator/src/pipeline/pipeline.py:50\u001B[0m, in \u001B[0;36mClaimGeneratorPipeline.generate\u001B[0;34m(self, input)\u001B[0m\n\u001B[1;32m     48\u001B[0m     element_output \u001B[38;5;241m=\u001B[39m []\n\u001B[1;32m     49\u001B[0m     \u001B[38;5;28;01mfor\u001B[39;00m paral_element \u001B[38;5;129;01min\u001B[39;00m pip_element:\n\u001B[0;32m---> 50\u001B[0m         element_output \u001B[38;5;241m+\u001B[39m\u001B[38;5;241m=\u001B[39m \u001B[43mparal_element\u001B[49m\u001B[43m(\u001B[49m\u001B[43mnext_input\u001B[49m\u001B[43m)\u001B[49m\n\u001B[1;32m     51\u001B[0m     next_input \u001B[38;5;241m=\u001B[39m element_output\n\u001B[1;32m     52\u001B[0m pipeline_output \u001B[38;5;241m=\u001B[39m next_input\n",
      "File \u001B[0;32m~/PycharmProjects/eurecom-evidence-generator/src/evidence/evidence_retriever.py:32\u001B[0m, in \u001B[0;36mEvidenceRetriever.__call__\u001B[0;34m(self, *args)\u001B[0m\n\u001B[1;32m     31\u001B[0m \u001B[38;5;28;01mdef\u001B[39;00m \u001B[38;5;21m__call__\u001B[39m(\u001B[38;5;28mself\u001B[39m, \u001B[38;5;241m*\u001B[39margs):\n\u001B[0;32m---> 32\u001B[0m     \u001B[38;5;28;01mreturn\u001B[39;00m \u001B[38;5;28;43mself\u001B[39;49m\u001B[38;5;241;43m.\u001B[39;49m\u001B[43mretrieve\u001B[49m\n",
      "File \u001B[0;32m~/PycharmProjects/eurecom-evidence-generator/src/evidence/feverous_retriever/feverous_retriever.py:132\u001B[0m, in \u001B[0;36mFeverousRetriever.retrieve\u001B[0;34m(self)\u001B[0m\n\u001B[1;32m    128\u001B[0m     \u001B[38;5;28;01mcontinue\u001B[39;00m\n\u001B[1;32m    130\u001B[0m \u001B[38;5;28;01mtry\u001B[39;00m:\n\u001B[1;32m    131\u001B[0m     \u001B[38;5;66;03m# analyze the tables of the wiki page\u001B[39;00m\n\u001B[0;32m--> 132\u001B[0m     pos_evidences, neg_evidences \u001B[38;5;241m=\u001B[39m \u001B[38;5;28;43mself\u001B[39;49m\u001B[38;5;241;43m.\u001B[39;49m\u001B[43manalyze_tables\u001B[49m\u001B[43m(\u001B[49m\u001B[43mtables\u001B[49m\u001B[43m,\u001B[49m\u001B[43m \u001B[49m\u001B[43mwiki_page\u001B[49m\u001B[43m)\u001B[49m\n\u001B[1;32m    133\u001B[0m \u001B[38;5;28;01mexcept\u001B[39;00m TableException \u001B[38;5;28;01mas\u001B[39;00m e:\n\u001B[1;32m    134\u001B[0m     discarded_ids[e\u001B[38;5;241m.\u001B[39merror[\u001B[38;5;241m0\u001B[39m]\u001B[38;5;241m.\u001B[39mvalue] \u001B[38;5;241m+\u001B[39m\u001B[38;5;241m=\u001B[39m [e\u001B[38;5;241m.\u001B[39merror[\u001B[38;5;241m1\u001B[39m]]\n",
      "File \u001B[0;32m~/PycharmProjects/eurecom-evidence-generator/src/evidence/feverous_retriever/feverous_retriever.py:208\u001B[0m, in \u001B[0;36mFeverousRetriever.analyze_tables\u001B[0;34m(self, tables, wiki_page)\u001B[0m\n\u001B[1;32m    206\u001B[0m \u001B[38;5;66;03m# extract the evidence from the table\u001B[39;00m\n\u001B[1;32m    207\u001B[0m \u001B[38;5;28;01mtry\u001B[39;00m:\n\u001B[0;32m--> 208\u001B[0m     evidence_from_table \u001B[38;5;241m=\u001B[39m \u001B[38;5;28;43mself\u001B[39;49m\u001B[38;5;241;43m.\u001B[39;49m\u001B[43mget_evidence_from_table\u001B[49m\u001B[43m(\u001B[49m\u001B[43mtbl\u001B[49m\u001B[43m,\u001B[49m\n\u001B[1;32m    209\u001B[0m \u001B[43m                                                       \u001B[49m\u001B[43mheader_left\u001B[49m\u001B[43m,\u001B[49m\n\u001B[1;32m    210\u001B[0m \u001B[43m                                                       \u001B[49m\u001B[43mtable_len\u001B[49m\u001B[43m)\u001B[49m\n\u001B[1;32m    211\u001B[0m \u001B[38;5;28;01mexcept\u001B[39;00m TableException:\n\u001B[1;32m    212\u001B[0m     \u001B[38;5;28;01mpass\u001B[39;00m  \u001B[38;5;66;03m# not raise because want to scan the other tables\u001B[39;00m\n",
      "File \u001B[0;32m~/PycharmProjects/eurecom-evidence-generator/src/evidence/feverous_retriever/random/feverous_retriever_random.py:63\u001B[0m, in \u001B[0;36mFeverousRetrieverRandom.get_evidence_from_table\u001B[0;34m(self, tbl, header_left, table_len)\u001B[0m\n\u001B[1;32m     59\u001B[0m     \u001B[38;5;28;01mraise\u001B[39;00m TableException(TableExceptionType\u001B[38;5;241m.\u001B[39mNO_ENOUGH_COL, tbl\u001B[38;5;241m.\u001B[39mpage)\n\u001B[1;32m     61\u001B[0m \u001B[38;5;28;01mtry\u001B[39;00m:\n\u001B[1;32m     62\u001B[0m     \u001B[38;5;66;03m# extract the evidencePieces with the random strategy\u001B[39;00m\n\u001B[0;32m---> 63\u001B[0m     output \u001B[38;5;241m=\u001B[39m \u001B[38;5;28;43mself\u001B[39;49m\u001B[38;5;241;43m.\u001B[39;49m\u001B[43mrandom_strategy\u001B[49m\u001B[43m(\u001B[49m\u001B[43mtbl\u001B[49m\u001B[43m,\u001B[49m\n\u001B[1;32m     64\u001B[0m \u001B[43m                                  \u001B[49m\u001B[43mheader_left\u001B[49m\u001B[43m,\u001B[49m\n\u001B[1;32m     65\u001B[0m \u001B[43m                                  \u001B[49m\u001B[43mtable_len\u001B[49m\u001B[43m)\u001B[49m\n\u001B[1;32m     66\u001B[0m \u001B[38;5;28;01mexcept\u001B[39;00m TableException:\n\u001B[1;32m     67\u001B[0m     \u001B[38;5;28;01mraise\u001B[39;00m  \u001B[38;5;66;03m# propagate up the TableException\u001B[39;00m\n",
      "File \u001B[0;32m~/PycharmProjects/eurecom-evidence-generator/src/evidence/feverous_retriever/random/feverous_retriever_random.py:116\u001B[0m, in \u001B[0;36mFeverousRetrieverRandom.random_strategy\u001B[0;34m(self, tbl, header_left, table_len)\u001B[0m\n\u001B[1;32m    113\u001B[0m \u001B[38;5;28;01mtry\u001B[39;00m:\n\u001B[1;32m    114\u001B[0m     \u001B[38;5;66;03m# Not header on the left\u001B[39;00m\n\u001B[1;32m    115\u001B[0m     \u001B[38;5;28;01mif\u001B[39;00m \u001B[38;5;28mlen\u001B[39m(header_left) \u001B[38;5;241m==\u001B[39m \u001B[38;5;241m0\u001B[39m:\n\u001B[0;32m--> 116\u001B[0m         selected_evidences, selected_h_cells, alternative_pieces \u001B[38;5;241m=\u001B[39m \u001B[43mrelational_table\u001B[49m\u001B[43m(\u001B[49m\u001B[43mtbl\u001B[49m\u001B[43m,\u001B[49m\n\u001B[1;32m    117\u001B[0m \u001B[43m                                                                                    \u001B[49m\u001B[43mtable_len\u001B[49m\u001B[43m,\u001B[49m\n\u001B[1;32m    118\u001B[0m \u001B[43m                                                                                    \u001B[49m\u001B[38;5;28;43mself\u001B[39;49m\u001B[38;5;241;43m.\u001B[39;49m\u001B[43mrng\u001B[49m\u001B[43m,\u001B[49m\n\u001B[1;32m    119\u001B[0m \u001B[43m                                                                                    \u001B[49m\u001B[38;5;28;43mself\u001B[39;49m\u001B[38;5;241;43m.\u001B[39;49m\u001B[43mevidence_per_table\u001B[49m\u001B[43m,\u001B[49m\n\u001B[1;32m    120\u001B[0m \u001B[43m                                                                                    \u001B[49m\u001B[38;5;28;43mself\u001B[39;49m\u001B[38;5;241;43m.\u001B[39;49m\u001B[43mcolumn_per_table\u001B[49m\u001B[43m,\u001B[49m\n\u001B[1;32m    121\u001B[0m \u001B[43m                                                                                    \u001B[49m\u001B[38;5;28;43mself\u001B[39;49m\u001B[38;5;241;43m.\u001B[39;49m\u001B[43mkey_strategy\u001B[49m\n\u001B[1;32m    122\u001B[0m \u001B[43m                                                                                    \u001B[49m\u001B[43m)\u001B[49m\n\u001B[1;32m    123\u001B[0m         \u001B[38;5;28;01mif\u001B[39;00m \u001B[38;5;28mself\u001B[39m\u001B[38;5;241m.\u001B[39mverbose:\n\u001B[1;32m    124\u001B[0m             logger\u001B[38;5;241m.\u001B[39minfo(\u001B[38;5;124mf\u001B[39m\u001B[38;5;124m\"\u001B[39m\u001B[38;5;124mPage: \u001B[39m\u001B[38;5;132;01m{\u001B[39;00mtbl\u001B[38;5;241m.\u001B[39mpage\u001B[38;5;132;01m}\u001B[39;00m\u001B[38;5;124m \u001B[39m\u001B[38;5;132;01m{\u001B[39;00mtbl\u001B[38;5;241m.\u001B[39mget_id()\u001B[38;5;132;01m}\u001B[39;00m\u001B[38;5;124m Selected headers: \u001B[39m\u001B[38;5;132;01m{\u001B[39;00m[\u001B[38;5;28mstr\u001B[39m(cell) \u001B[38;5;28;01mfor\u001B[39;00m cell \u001B[38;5;129;01min\u001B[39;00m selected_h_cells]\u001B[38;5;132;01m}\u001B[39;00m\u001B[38;5;124m\"\u001B[39m\u001B[38;5;241m.\u001B[39mencode(\u001B[38;5;124m\"\u001B[39m\u001B[38;5;124mutf-8\u001B[39m\u001B[38;5;124m\"\u001B[39m))\n",
      "File \u001B[0;32m~/PycharmProjects/eurecom-evidence-generator/src/evidence/feverous_retriever/random/random_relational_table.py:69\u001B[0m, in \u001B[0;36mrelational_table\u001B[0;34m(tbl, table_len, rng, evidence_per_table, column_per_table, key_strategy)\u001B[0m\n\u001B[1;32m     63\u001B[0m     list_cols \u001B[38;5;241m=\u001B[39m [_key_sensible(tbl, tbl_headers\u001B[38;5;241m.\u001B[39mrow, start_row \u001B[38;5;241m+\u001B[39m \u001B[38;5;241m1\u001B[39m, end_row)] \\\n\u001B[1;32m     64\u001B[0m                 \u001B[38;5;241m+\u001B[39m rng\u001B[38;5;241m.\u001B[39mchoice(\u001B[38;5;28mlen\u001B[39m(tbl_headers\u001B[38;5;241m.\u001B[39mrow),\n\u001B[1;32m     65\u001B[0m                              column_per_table \u001B[38;5;241m-\u001B[39m \u001B[38;5;241m1\u001B[39m,\n\u001B[1;32m     66\u001B[0m                              replace\u001B[38;5;241m=\u001B[39m\u001B[38;5;28;01mFalse\u001B[39;00m)\n\u001B[1;32m     67\u001B[0m \u001B[38;5;28;01melif\u001B[39;00m key_strategy \u001B[38;5;241m==\u001B[39m \u001B[38;5;124m'\u001B[39m\u001B[38;5;124mentity\u001B[39m\u001B[38;5;124m'\u001B[39m:\n\u001B[1;32m     68\u001B[0m     \u001B[38;5;66;03m# start_row + 1 is passed to skip the header\u001B[39;00m\n\u001B[0;32m---> 69\u001B[0m     list_cols \u001B[38;5;241m=\u001B[39m [\u001B[43m_key_entity\u001B[49m\u001B[43m(\u001B[49m\u001B[43mtbl\u001B[49m\u001B[43m,\u001B[49m\u001B[43m \u001B[49m\u001B[43mtbl_headers\u001B[49m\u001B[38;5;241;43m.\u001B[39;49m\u001B[43mrow\u001B[49m\u001B[43m,\u001B[49m\u001B[43m \u001B[49m\u001B[43mstart_row\u001B[49m\u001B[43m \u001B[49m\u001B[38;5;241;43m+\u001B[39;49m\u001B[43m \u001B[49m\u001B[38;5;241;43m1\u001B[39;49m\u001B[43m,\u001B[49m\u001B[43m \u001B[49m\u001B[43mend_row\u001B[49m\u001B[43m)\u001B[49m] \\\n\u001B[1;32m     70\u001B[0m                 \u001B[38;5;241m+\u001B[39m rng\u001B[38;5;241m.\u001B[39mchoice(\u001B[38;5;28mlen\u001B[39m(tbl_headers\u001B[38;5;241m.\u001B[39mrow),\n\u001B[1;32m     71\u001B[0m                              column_per_table \u001B[38;5;241m-\u001B[39m \u001B[38;5;241m1\u001B[39m,\n\u001B[1;32m     72\u001B[0m                              replace\u001B[38;5;241m=\u001B[39m\u001B[38;5;28;01mFalse\u001B[39;00m)\n\u001B[1;32m     73\u001B[0m \u001B[38;5;28;01melif\u001B[39;00m key_strategy \u001B[38;5;241m==\u001B[39m \u001B[38;5;124m'\u001B[39m\u001B[38;5;124mrandom\u001B[39m\u001B[38;5;124m'\u001B[39m:\n\u001B[1;32m     74\u001B[0m     \u001B[38;5;66;03m# randomly choose the evidence headers in the selected header\u001B[39;00m\n\u001B[1;32m     75\u001B[0m     list_cols \u001B[38;5;241m=\u001B[39m rng\u001B[38;5;241m.\u001B[39mchoice(\u001B[38;5;28mlen\u001B[39m(tbl_headers\u001B[38;5;241m.\u001B[39mrow),\n\u001B[1;32m     76\u001B[0m                            column_per_table,\n\u001B[1;32m     77\u001B[0m                            replace\u001B[38;5;241m=\u001B[39m\u001B[38;5;28;01mFalse\u001B[39;00m)\n",
      "File \u001B[0;32m~/PycharmProjects/eurecom-evidence-generator/src/evidence/feverous_retriever/random/random_relational_table.py:258\u001B[0m, in \u001B[0;36m_key_entity\u001B[0;34m(table, header, start_row, end_row)\u001B[0m\n\u001B[1;32m    244\u001B[0m \u001B[38;5;28;01mdef\u001B[39;00m \u001B[38;5;21m_key_entity\u001B[39m(table: WikiTable,\n\u001B[1;32m    245\u001B[0m                 header: Row,\n\u001B[1;32m    246\u001B[0m                 start_row: \u001B[38;5;28mint\u001B[39m,\n\u001B[1;32m    247\u001B[0m                 end_row: \u001B[38;5;28mint\u001B[39m):\n\u001B[1;32m    248\u001B[0m     \u001B[38;5;124;03m\"\"\"\u001B[39;00m\n\u001B[1;32m    249\u001B[0m \u001B[38;5;124;03m    Check table for all columns without duplicates and select one\u001B[39;00m\n\u001B[1;32m    250\u001B[0m \u001B[38;5;124;03m    using heuristic based on named entity recognition and distance\u001B[39;00m\n\u001B[0;32m   (...)\u001B[0m\n\u001B[1;32m    256\u001B[0m \u001B[38;5;124;03m    :param end_row: Row to end analysis at\u001B[39;00m\n\u001B[1;32m    257\u001B[0m \u001B[38;5;124;03m    \"\"\"\u001B[39;00m\n\u001B[0;32m--> 258\u001B[0m     NER \u001B[38;5;241m=\u001B[39m spacy\u001B[38;5;241m.\u001B[39mload(\u001B[38;5;124m\"\u001B[39m\u001B[38;5;124men_core_web_sm\u001B[39m\u001B[38;5;124m\"\u001B[39m)\n\u001B[1;32m    259\u001B[0m     table_id \u001B[38;5;241m=\u001B[39m \u001B[38;5;28mint\u001B[39m(table\u001B[38;5;241m.\u001B[39mget_id()\u001B[38;5;241m.\u001B[39msplit(\u001B[38;5;124m'\u001B[39m\u001B[38;5;124m_\u001B[39m\u001B[38;5;124m'\u001B[39m)[\u001B[38;5;241m1\u001B[39m])\n\u001B[1;32m    260\u001B[0m     n_cols \u001B[38;5;241m=\u001B[39m \u001B[38;5;28mlen\u001B[39m(header)\n",
      "File \u001B[0;32m~/PycharmProjects/eurecom-evidence-generator/venv/lib/python3.9/site-packages/spacy/__init__.py:30\u001B[0m, in \u001B[0;36mload\u001B[0;34m(name, **overrides)\u001B[0m\n\u001B[1;32m     28\u001B[0m \u001B[38;5;28;01mif\u001B[39;00m depr_path \u001B[38;5;129;01mnot\u001B[39;00m \u001B[38;5;129;01min\u001B[39;00m (\u001B[38;5;28;01mTrue\u001B[39;00m, \u001B[38;5;28;01mFalse\u001B[39;00m, \u001B[38;5;28;01mNone\u001B[39;00m):\n\u001B[1;32m     29\u001B[0m     warnings\u001B[38;5;241m.\u001B[39mwarn(Warnings\u001B[38;5;241m.\u001B[39mW001\u001B[38;5;241m.\u001B[39mformat(path\u001B[38;5;241m=\u001B[39mdepr_path), \u001B[38;5;167;01mDeprecationWarning\u001B[39;00m)\n\u001B[0;32m---> 30\u001B[0m \u001B[38;5;28;01mreturn\u001B[39;00m \u001B[43mutil\u001B[49m\u001B[38;5;241;43m.\u001B[39;49m\u001B[43mload_model\u001B[49m\u001B[43m(\u001B[49m\u001B[43mname\u001B[49m\u001B[43m,\u001B[49m\u001B[43m \u001B[49m\u001B[38;5;241;43m*\u001B[39;49m\u001B[38;5;241;43m*\u001B[39;49m\u001B[43moverrides\u001B[49m\u001B[43m)\u001B[49m\n",
      "File \u001B[0;32m~/PycharmProjects/eurecom-evidence-generator/venv/lib/python3.9/site-packages/spacy/util.py:170\u001B[0m, in \u001B[0;36mload_model\u001B[0;34m(name, **overrides)\u001B[0m\n\u001B[1;32m    168\u001B[0m     \u001B[38;5;28;01mreturn\u001B[39;00m load_model_from_link(name, \u001B[38;5;241m*\u001B[39m\u001B[38;5;241m*\u001B[39moverrides)\n\u001B[1;32m    169\u001B[0m \u001B[38;5;28;01mif\u001B[39;00m is_package(name):  \u001B[38;5;66;03m# installed as package\u001B[39;00m\n\u001B[0;32m--> 170\u001B[0m     \u001B[38;5;28;01mreturn\u001B[39;00m \u001B[43mload_model_from_package\u001B[49m\u001B[43m(\u001B[49m\u001B[43mname\u001B[49m\u001B[43m,\u001B[49m\u001B[43m \u001B[49m\u001B[38;5;241;43m*\u001B[39;49m\u001B[38;5;241;43m*\u001B[39;49m\u001B[43moverrides\u001B[49m\u001B[43m)\u001B[49m\n\u001B[1;32m    171\u001B[0m \u001B[38;5;28;01mif\u001B[39;00m Path(name)\u001B[38;5;241m.\u001B[39mexists():  \u001B[38;5;66;03m# path to model data directory\u001B[39;00m\n\u001B[1;32m    172\u001B[0m     \u001B[38;5;28;01mreturn\u001B[39;00m load_model_from_path(Path(name), \u001B[38;5;241m*\u001B[39m\u001B[38;5;241m*\u001B[39moverrides)\n",
      "File \u001B[0;32m~/PycharmProjects/eurecom-evidence-generator/venv/lib/python3.9/site-packages/spacy/util.py:191\u001B[0m, in \u001B[0;36mload_model_from_package\u001B[0;34m(name, **overrides)\u001B[0m\n\u001B[1;32m    189\u001B[0m \u001B[38;5;124;03m\"\"\"Load a model from an installed package.\"\"\"\u001B[39;00m\n\u001B[1;32m    190\u001B[0m \u001B[38;5;28mcls\u001B[39m \u001B[38;5;241m=\u001B[39m importlib\u001B[38;5;241m.\u001B[39mimport_module(name)\n\u001B[0;32m--> 191\u001B[0m \u001B[38;5;28;01mreturn\u001B[39;00m \u001B[38;5;28;43mcls\u001B[39;49m\u001B[38;5;241;43m.\u001B[39;49m\u001B[43mload\u001B[49m\u001B[43m(\u001B[49m\u001B[38;5;241;43m*\u001B[39;49m\u001B[38;5;241;43m*\u001B[39;49m\u001B[43moverrides\u001B[49m\u001B[43m)\u001B[49m\n",
      "File \u001B[0;32m~/PycharmProjects/eurecom-evidence-generator/venv/lib/python3.9/site-packages/en_core_web_sm/__init__.py:12\u001B[0m, in \u001B[0;36mload\u001B[0;34m(**overrides)\u001B[0m\n\u001B[1;32m     11\u001B[0m \u001B[38;5;28;01mdef\u001B[39;00m \u001B[38;5;21mload\u001B[39m(\u001B[38;5;241m*\u001B[39m\u001B[38;5;241m*\u001B[39moverrides):\n\u001B[0;32m---> 12\u001B[0m     \u001B[38;5;28;01mreturn\u001B[39;00m \u001B[43mload_model_from_init_py\u001B[49m\u001B[43m(\u001B[49m\u001B[38;5;18;43m__file__\u001B[39;49m\u001B[43m,\u001B[49m\u001B[43m \u001B[49m\u001B[38;5;241;43m*\u001B[39;49m\u001B[38;5;241;43m*\u001B[39;49m\u001B[43moverrides\u001B[49m\u001B[43m)\u001B[49m\n",
      "File \u001B[0;32m~/PycharmProjects/eurecom-evidence-generator/venv/lib/python3.9/site-packages/spacy/util.py:239\u001B[0m, in \u001B[0;36mload_model_from_init_py\u001B[0;34m(init_file, **overrides)\u001B[0m\n\u001B[1;32m    237\u001B[0m \u001B[38;5;28;01mif\u001B[39;00m \u001B[38;5;129;01mnot\u001B[39;00m model_path\u001B[38;5;241m.\u001B[39mexists():\n\u001B[1;32m    238\u001B[0m     \u001B[38;5;28;01mraise\u001B[39;00m \u001B[38;5;167;01mIOError\u001B[39;00m(Errors\u001B[38;5;241m.\u001B[39mE052\u001B[38;5;241m.\u001B[39mformat(path\u001B[38;5;241m=\u001B[39mpath2str(data_path)))\n\u001B[0;32m--> 239\u001B[0m \u001B[38;5;28;01mreturn\u001B[39;00m \u001B[43mload_model_from_path\u001B[49m\u001B[43m(\u001B[49m\u001B[43mdata_path\u001B[49m\u001B[43m,\u001B[49m\u001B[43m \u001B[49m\u001B[43mmeta\u001B[49m\u001B[43m,\u001B[49m\u001B[43m \u001B[49m\u001B[38;5;241;43m*\u001B[39;49m\u001B[38;5;241;43m*\u001B[39;49m\u001B[43moverrides\u001B[49m\u001B[43m)\u001B[49m\n",
      "File \u001B[0;32m~/PycharmProjects/eurecom-evidence-generator/venv/lib/python3.9/site-packages/spacy/util.py:203\u001B[0m, in \u001B[0;36mload_model_from_path\u001B[0;34m(model_path, meta, **overrides)\u001B[0m\n\u001B[1;32m    201\u001B[0m lang \u001B[38;5;241m=\u001B[39m meta\u001B[38;5;241m.\u001B[39mget(\u001B[38;5;124m\"\u001B[39m\u001B[38;5;124mlang_factory\u001B[39m\u001B[38;5;124m\"\u001B[39m, meta[\u001B[38;5;124m\"\u001B[39m\u001B[38;5;124mlang\u001B[39m\u001B[38;5;124m\"\u001B[39m])\n\u001B[1;32m    202\u001B[0m \u001B[38;5;28mcls\u001B[39m \u001B[38;5;241m=\u001B[39m get_lang_class(lang)\n\u001B[0;32m--> 203\u001B[0m nlp \u001B[38;5;241m=\u001B[39m \u001B[38;5;28;43mcls\u001B[39;49m\u001B[43m(\u001B[49m\u001B[43mmeta\u001B[49m\u001B[38;5;241;43m=\u001B[39;49m\u001B[43mmeta\u001B[49m\u001B[43m,\u001B[49m\u001B[43m \u001B[49m\u001B[38;5;241;43m*\u001B[39;49m\u001B[38;5;241;43m*\u001B[39;49m\u001B[43moverrides\u001B[49m\u001B[43m)\u001B[49m\n\u001B[1;32m    204\u001B[0m pipeline \u001B[38;5;241m=\u001B[39m meta\u001B[38;5;241m.\u001B[39mget(\u001B[38;5;124m\"\u001B[39m\u001B[38;5;124mpipeline\u001B[39m\u001B[38;5;124m\"\u001B[39m, [])\n\u001B[1;32m    205\u001B[0m factories \u001B[38;5;241m=\u001B[39m meta\u001B[38;5;241m.\u001B[39mget(\u001B[38;5;124m\"\u001B[39m\u001B[38;5;124mfactories\u001B[39m\u001B[38;5;124m\"\u001B[39m, {})\n",
      "File \u001B[0;32m~/PycharmProjects/eurecom-evidence-generator/venv/lib/python3.9/site-packages/spacy/language.py:186\u001B[0m, in \u001B[0;36mLanguage.__init__\u001B[0;34m(self, vocab, make_doc, max_length, meta, **kwargs)\u001B[0m\n\u001B[1;32m    184\u001B[0m \u001B[38;5;28;01mif\u001B[39;00m make_doc \u001B[38;5;129;01mis\u001B[39;00m \u001B[38;5;28;01mTrue\u001B[39;00m:\n\u001B[1;32m    185\u001B[0m     factory \u001B[38;5;241m=\u001B[39m \u001B[38;5;28mself\u001B[39m\u001B[38;5;241m.\u001B[39mDefaults\u001B[38;5;241m.\u001B[39mcreate_tokenizer\n\u001B[0;32m--> 186\u001B[0m     make_doc \u001B[38;5;241m=\u001B[39m \u001B[43mfactory\u001B[49m\u001B[43m(\u001B[49m\u001B[38;5;28;43mself\u001B[39;49m\u001B[43m,\u001B[49m\u001B[43m \u001B[49m\u001B[38;5;241;43m*\u001B[39;49m\u001B[38;5;241;43m*\u001B[39;49m\u001B[43mmeta\u001B[49m\u001B[38;5;241;43m.\u001B[39;49m\u001B[43mget\u001B[49m\u001B[43m(\u001B[49m\u001B[38;5;124;43m\"\u001B[39;49m\u001B[38;5;124;43mtokenizer\u001B[39;49m\u001B[38;5;124;43m\"\u001B[39;49m\u001B[43m,\u001B[49m\u001B[43m \u001B[49m\u001B[43m{\u001B[49m\u001B[43m}\u001B[49m\u001B[43m)\u001B[49m\u001B[43m)\u001B[49m\n\u001B[1;32m    187\u001B[0m \u001B[38;5;28mself\u001B[39m\u001B[38;5;241m.\u001B[39mtokenizer \u001B[38;5;241m=\u001B[39m make_doc\n\u001B[1;32m    188\u001B[0m \u001B[38;5;28mself\u001B[39m\u001B[38;5;241m.\u001B[39mpipeline \u001B[38;5;241m=\u001B[39m []\n",
      "File \u001B[0;32m~/PycharmProjects/eurecom-evidence-generator/venv/lib/python3.9/site-packages/spacy/language.py:104\u001B[0m, in \u001B[0;36mBaseDefaults.create_tokenizer\u001B[0;34m(cls, nlp)\u001B[0m\n\u001B[1;32m    100\u001B[0m infix_finditer \u001B[38;5;241m=\u001B[39m (\n\u001B[1;32m    101\u001B[0m     util\u001B[38;5;241m.\u001B[39mcompile_infix_regex(\u001B[38;5;28mcls\u001B[39m\u001B[38;5;241m.\u001B[39minfixes)\u001B[38;5;241m.\u001B[39mfinditer \u001B[38;5;28;01mif\u001B[39;00m \u001B[38;5;28mcls\u001B[39m\u001B[38;5;241m.\u001B[39minfixes \u001B[38;5;28;01melse\u001B[39;00m \u001B[38;5;28;01mNone\u001B[39;00m\n\u001B[1;32m    102\u001B[0m )\n\u001B[1;32m    103\u001B[0m vocab \u001B[38;5;241m=\u001B[39m nlp\u001B[38;5;241m.\u001B[39mvocab \u001B[38;5;28;01mif\u001B[39;00m nlp \u001B[38;5;129;01mis\u001B[39;00m \u001B[38;5;129;01mnot\u001B[39;00m \u001B[38;5;28;01mNone\u001B[39;00m \u001B[38;5;28;01melse\u001B[39;00m \u001B[38;5;28mcls\u001B[39m\u001B[38;5;241m.\u001B[39mcreate_vocab(nlp)\n\u001B[0;32m--> 104\u001B[0m \u001B[38;5;28;01mreturn\u001B[39;00m \u001B[43mTokenizer\u001B[49m\u001B[43m(\u001B[49m\n\u001B[1;32m    105\u001B[0m \u001B[43m    \u001B[49m\u001B[43mvocab\u001B[49m\u001B[43m,\u001B[49m\n\u001B[1;32m    106\u001B[0m \u001B[43m    \u001B[49m\u001B[43mrules\u001B[49m\u001B[38;5;241;43m=\u001B[39;49m\u001B[43mrules\u001B[49m\u001B[43m,\u001B[49m\n\u001B[1;32m    107\u001B[0m \u001B[43m    \u001B[49m\u001B[43mprefix_search\u001B[49m\u001B[38;5;241;43m=\u001B[39;49m\u001B[43mprefix_search\u001B[49m\u001B[43m,\u001B[49m\n\u001B[1;32m    108\u001B[0m \u001B[43m    \u001B[49m\u001B[43msuffix_search\u001B[49m\u001B[38;5;241;43m=\u001B[39;49m\u001B[43msuffix_search\u001B[49m\u001B[43m,\u001B[49m\n\u001B[1;32m    109\u001B[0m \u001B[43m    \u001B[49m\u001B[43minfix_finditer\u001B[49m\u001B[38;5;241;43m=\u001B[39;49m\u001B[43minfix_finditer\u001B[49m\u001B[43m,\u001B[49m\n\u001B[1;32m    110\u001B[0m \u001B[43m    \u001B[49m\u001B[43mtoken_match\u001B[49m\u001B[38;5;241;43m=\u001B[39;49m\u001B[43mtoken_match\u001B[49m\u001B[43m,\u001B[49m\n\u001B[1;32m    111\u001B[0m \u001B[43m    \u001B[49m\u001B[43murl_match\u001B[49m\u001B[38;5;241;43m=\u001B[39;49m\u001B[43murl_match\u001B[49m\u001B[43m,\u001B[49m\n\u001B[1;32m    112\u001B[0m \u001B[43m\u001B[49m\u001B[43m)\u001B[49m\n",
      "File \u001B[0;32mtokenizer.pyx:67\u001B[0m, in \u001B[0;36mspacy.tokenizer.Tokenizer.__init__\u001B[0;34m()\u001B[0m\n",
      "File \u001B[0;32mtokenizer.pyx:424\u001B[0m, in \u001B[0;36mspacy.tokenizer.Tokenizer._load_special_tokenization\u001B[0;34m()\u001B[0m\n",
      "File \u001B[0;32mtokenizer.pyx:440\u001B[0m, in \u001B[0;36mspacy.tokenizer.Tokenizer.add_special_case\u001B[0;34m()\u001B[0m\n",
      "File \u001B[0;32mvocab.pyx:259\u001B[0m, in \u001B[0;36mspacy.vocab.Vocab.make_fused_token\u001B[0;34m()\u001B[0m\n",
      "File \u001B[0;32mvocab.pyx:166\u001B[0m, in \u001B[0;36mspacy.vocab.Vocab.get_by_orth\u001B[0;34m()\u001B[0m\n",
      "File \u001B[0;32mvocab.pyx:181\u001B[0m, in \u001B[0;36mspacy.vocab.Vocab._new_lexeme\u001B[0;34m()\u001B[0m\n",
      "File \u001B[0;32m~/PycharmProjects/eurecom-evidence-generator/venv/lib/python3.9/site-packages/spacy/lang/lex_attrs.py:177\u001B[0m, in \u001B[0;36mlower\u001B[0;34m(string)\u001B[0m\n\u001B[1;32m    173\u001B[0m             shape\u001B[38;5;241m.\u001B[39mappend(shape_char)\n\u001B[1;32m    174\u001B[0m     \u001B[38;5;28;01mreturn\u001B[39;00m \u001B[38;5;124m\"\u001B[39m\u001B[38;5;124m\"\u001B[39m\u001B[38;5;241m.\u001B[39mjoin(shape)\n\u001B[0;32m--> 177\u001B[0m \u001B[38;5;28;01mdef\u001B[39;00m \u001B[38;5;21mlower\u001B[39m(string):\n\u001B[1;32m    178\u001B[0m     \u001B[38;5;28;01mreturn\u001B[39;00m string\u001B[38;5;241m.\u001B[39mlower()\n\u001B[1;32m    181\u001B[0m \u001B[38;5;28;01mdef\u001B[39;00m \u001B[38;5;21mprefix\u001B[39m(string):\n",
      "\u001B[0;31mKeyboardInterrupt\u001B[0m: "
     ]
    }
   ],
   "source": [
    "cfg = compose(config_name=\"config_pipeline\")\n",
    "rng = np.random.default_rng(cfg.seed)\n",
    "retrievers = [FeverousRetrieverRandom(p_dataset=cfg.notebook.data_path,\n",
    "                                    num_positive=10,\n",
    "                                    num_negative=0,\n",
    "                                    wrong_cell=2,\n",
    "                                    table_per_page=cfg.table_per_page,\n",
    "                                    evidence_per_table=cfg.evidence_per_table,\n",
    "                                    column_per_table=cfg.column_per_table,\n",
    "                                    seed=44,\n",
    "                                    key_strategy=strat,\n",
    "                                    verbose=True\n",
    "                                    ) for strat in ['entity']]\n",
    "\n",
    "\n",
    "generator1 = FeverousGenerator(encoding='compact', model_path='../models/t5_train_feverous.bin')\n",
    "#generator2 = ToTToGenerator(encoding='totto', model_path='../models/exported_totto_large/1648208035')\n",
    "generator3 = ToTToGenerator(encoding='compact', model_path='../models/exported_totto_large/1648208035', verbose=True)\n",
    "\n",
    "generators = [generator3]\n",
    "\n",
    "pipeline = ClaimGeneratorPipeline([retrievers,generators])\n",
    "claims = pipeline.generate() # Right now, FeverousRetriever doesn't support an input table\n",
    "\n",
    "\n",
    "json_evidence = TextualClaim.to_json(claims)\n",
    "with open('data.json', 'w', encoding='utf-8') as f:\n",
    "    json.dump(json_evidence, f, ensure_ascii=False, indent=4)\n",
    "\n"
   ],
   "metadata": {
    "collapsed": false,
    "pycharm": {
     "name": "#%%\n"
    }
   }
  },
  {
   "cell_type": "code",
   "execution_count": null,
   "metadata": {
    "pycharm": {
     "name": "#%%\n"
    }
   },
   "outputs": [],
   "source": []
  }
 ],
 "metadata": {
  "kernelspec": {
   "name": "python3",
   "language": "python",
   "display_name": "Python 3 (ipykernel)"
  },
  "language_info": {
   "codemirror_mode": {
    "name": "ipython",
    "version": 3
   },
   "file_extension": ".py",
   "mimetype": "text/x-python",
   "name": "python",
   "nbconvert_exporter": "python",
   "pygments_lexer": "ipython3",
   "version": "3.8.10"
  }
 },
 "nbformat": 4,
 "nbformat_minor": 1
}