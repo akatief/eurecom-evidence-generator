{
 "cells": [
  {
   "cell_type": "markdown",
   "metadata": {
    "collapsed": true,
    "pycharm": {
     "name": "#%% md\n"
    }
   },
   "source": [
    "### Pipeline test ###\n",
    "\n",
    "In this notebook we will try a possible textual claim generation to be implemented later as part of the package"
   ]
  },
  {
   "cell_type": "code",
   "execution_count": null,
   "outputs": [],
   "source": [
    "from hydra.core.global_hydra import GlobalHydra\n",
    "from hydra import initialize,compose\n",
    "from src.evidence.feverous_retriever.random import FeverousRetrieverRandom\n",
    "from src.pipeline import ClaimGeneratorPipeline\n",
    "from src.claim import FeverousGenerator\n",
    "from src.claim import ToTToGenerator\n",
    "from src.claim import TextualClaim\n",
    "import numpy as np\n",
    "import json\n",
    "import tensorflow as tf\n",
    "\n",
    "tf.get_logger().setLevel('ERROR')\n",
    "GlobalHydra.instance().clear()\n",
    "initialize(config_path='../src/config/', job_name=\"test_app\")"
   ],
   "metadata": {
    "collapsed": false,
    "pycharm": {
     "name": "#%%\n",
     "is_executing": true
    }
   }
  },
  {
   "cell_type": "code",
   "execution_count": null,
   "outputs": [],
   "source": [
    "cfg = compose(config_name=\"config_pipeline\")\n",
    "rng = np.random.default_rng(cfg.seed)\n",
    "retrievers = [FeverousRetrieverRandom(p_dataset=cfg.notebook.data_path,\n",
    "                                    num_positive=10,\n",
    "                                    num_negative=0,\n",
    "                                    wrong_cell=2,\n",
    "                                    table_per_page=cfg.table_per_page,\n",
    "                                    evidence_per_table=cfg.evidence_per_table,\n",
    "                                    column_per_table=cfg.column_per_table,\n",
    "                                    seed=44,\n",
    "                                    key_strategy=strat,\n",
    "                                    verbose=True\n",
    "                                    ) for strat in ['entity']]\n",
    "\n",
    "\n",
    "generator1 = FeverousGenerator(encoding='compact', model_path='../models/t5_train_feverous.bin')\n",
    "#generator2 = ToTToGenerator(encoding='totto', model_path='../models/exported_totto_large/1648208035')\n",
    "generator3 = ToTToGenerator(encoding='compact', model_path='../models/exported_totto_large/1648208035', verbose=True)\n",
    "\n",
    "generators = [generator3]\n",
    "\n",
    "pipeline = ClaimGeneratorPipeline([retrievers,generators])\n",
    "claims = pipeline.generate() # Right now, FeverousRetriever doesn't support an input table\n",
    "\n",
    "\n",
    "json_evidence = TextualClaim.to_json(claims)\n",
    "with open('data.json', 'w', encoding='utf-8') as f:\n",
    "    json.dump(json_evidence, f, ensure_ascii=False, indent=4)\n",
    "\n"
   ],
   "metadata": {
    "collapsed": false,
    "pycharm": {
     "name": "#%%\n",
     "is_executing": true
    }
   }
  }
 ],
 "metadata": {
  "kernelspec": {
   "name": "python3",
   "language": "python",
   "display_name": "Python 3 (ipykernel)"
  },
  "language_info": {
   "codemirror_mode": {
    "name": "ipython",
    "version": 3
   },
   "file_extension": ".py",
   "mimetype": "text/x-python",
   "name": "python",
   "nbconvert_exporter": "python",
   "pygments_lexer": "ipython3",
   "version": "3.8.10"
  }
 },
 "nbformat": 4,
 "nbformat_minor": 1
}