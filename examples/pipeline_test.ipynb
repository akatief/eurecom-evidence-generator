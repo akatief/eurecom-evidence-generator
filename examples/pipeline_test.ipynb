{
 "cells": [
  {
   "cell_type": "markdown",
   "metadata": {
    "collapsed": true,
    "pycharm": {
     "name": "#%% md\n"
    }
   },
   "source": [
    "### Pipeline test ###\n",
    "\n",
    "In this notebook we will try a possible textual claim generation to be implemented later as part of the package"
   ]
  },
  {
   "cell_type": "code",
   "execution_count": 1,
   "metadata": {
    "pycharm": {
     "name": "#%%\n"
    }
   },
   "outputs": [
    {
     "name": "stderr",
     "output_type": "stream",
     "text": [
      "Since the GPL-licensed package `unidecode` is not installed, using Python's `unicodedata` package which yields worse results.\n"
     ]
    },
    {
     "data": {
      "text/plain": "hydra.initialize()"
     },
     "execution_count": 1,
     "metadata": {},
     "output_type": "execute_result"
    }
   ],
   "source": [
    "from hydra.core.global_hydra import GlobalHydra\n",
    "from hydra import initialize,compose\n",
    "from src.evidence import FeverousRandomRetriever\n",
    "from src.pipeline import ClaimGeneratorPipeline\n",
    "from src.claim import FeverousGenerator\n",
    "import numpy as np\n",
    "\n",
    "\n",
    "GlobalHydra.instance().clear()\n",
    "initialize(config_path='../src/config/', job_name=\"test_app\")"
   ]
  },
  {
   "cell_type": "code",
   "execution_count": 2,
   "metadata": {
    "pycharm": {
     "name": "#%%\n"
    }
   },
   "outputs": [
    {
     "name": "stdout",
     "output_type": "stream",
     "text": [
      "Claim 0: \n",
      "Generated:  <pad> 1889 Liverpool City Council election registered electors were 135 registered electors.</s>\n",
      "Evidence :   && 1889 Liverpool City Council election && Registered electors | 135 && 1889 Liverpool City Council election && Majority\n",
      "Claim 1: \n",
      "Generated:  <pad> In 1889, the Liverpool City Council election was registered with 5 468 registered electors\n",
      "Evidence :  5,468 && 1889 Liverpool City Council election && Registered electors |  && 1889 Liverpool City Council election && Majority\n",
      "Claim 2: \n",
      "Generated:  <pad> 1889 Liverpool City Council election was a loss of 5 votes.</s>\n",
      "Evidence :   && 1889 Liverpool City Council election && +/− | 5 && 1889 Liverpool City Council election && Losses\n",
      "Claim 3: \n",
      "Generated:  <pad> 1889 Liverpool City Council election was a loss of 0 votes.</s>\n",
      "Evidence :   && 1889 Liverpool City Council election && +/− | 0 && 1889 Liverpool City Council election && Losses\n",
      "Claim 4: \n",
      "Generated:  <pad> Overveen railway station is located in Zandvoort aan Zee.\n",
      "Evidence :  NS && Overveen railway station && Operator(s) | Zandvoort aan Zee && Overveen railway station && To\n",
      "Claim 5: \n",
      "Generated:  <pad> Overveen railway station is located in Zandvoort aan Zee.\n",
      "Evidence :  NS && Overveen railway station && Operator(s) | Zandvoort aan Zee && Overveen railway station && To\n",
      "Claim 6: \n",
      "Generated:  <pad> In the 2004–05 Powergen Cup, 12 Premiership clubs were joined by 16 Premiership\n",
      "Evidence :  12 Premiership clubs && 2004–05 Powergen Cup && Joined by | 16 && 2004–05 Powergen Cup && Total teams\n",
      "Claim 7: \n",
      "Generated:  <pad> The 2004–05 Powergen Cup was joined by 16 teams from 16 countries.</s>\n",
      "Evidence :  n/a && 2004–05 Powergen Cup && Joined by | 16 && 2004–05 Powergen Cup && Total teams\n",
      "Claim 8: \n",
      "Generated:  <pad> Coventry won the 2004–05 Powergen Cup with a score of 31-23\n",
      "Evidence :  31-23 && 2004–05 Powergen Cup && Score | Coventry && 2004–05 Powergen Cup && Team One\n",
      "Claim 9: \n",
      "Generated:  <pad> Exeter dominated the 2004–05 Powergen Cup with a score of 78-0\n",
      "Evidence :  78-0 && 2004–05 Powergen Cup && Score | Exeter && 2004–05 Powergen Cup && Team One\n",
      "Claim 10: \n",
      "Generated:  <pad> Farid El Alagui won the Scottish Championship in the Scottish Championship.</s>\n",
      "Evidence :  — && Farid El Alagui && Apps | Scottish Championship && Farid El Alagui && Division\n",
      "Claim 11: \n",
      "Generated:  <pad> Farid El Alagui is in the Championnat de France Amateur Group D.\n",
      "Evidence :  — && Farid El Alagui && Apps | Championnat de France Amateur Group D && Farid El Alagui && Division\n",
      "Claim 12: \n",
      "Generated:  <pad> Curious George (franchise) has 62 reviews and a cinemaScore\n",
      "Evidence :  62 (28 reviews) && Curious George (franchise) && Metacritic | A- && Curious George (franchise) && CinemaScore\n",
      "Claim 13: \n",
      "Generated:  <pad> Curious George (franchise) is a metacritic film that has\n",
      "Evidence :  N/A && Curious George (franchise) && Metacritic | N/A && Curious George (franchise) && CinemaScore\n",
      "Claim 14: \n",
      "Generated:  <pad> Rafi (political party) is a member of the Knesset.\n",
      "Evidence :  Yosef Almogi, David Ben-Gurion, Gideon Ben-Israel, Moshe Dayan, Amos Degani, Hannah Lamdan, Shimon Peres, Yizhar Smilansky && Rafi (political party) && Knesset Members | 5th (8) && Rafi (political party) && Knesset (MKs)\n"
     ]
    }
   ],
   "source": [
    "cfg = compose(config_name=\"config_pipeline\")\n",
    "rng = np.random.default_rng(cfg.seed)\n",
    "retriever = FeverousRandomRetriever(cfg.notebook.data_path,\n",
    "                                        cfg.num_evidence,\n",
    "                                        cfg.table_per_page,\n",
    "                                        cfg.evidence_per_table,\n",
    "                                        cfg.column_per_table,\n",
    "                                        cfg.seed\n",
    "                                        )\n",
    "generator = FeverousGenerator(cfg.notebook.model_path)\n",
    "\n",
    "pipeline = ClaimGeneratorPipeline([retriever,generator])\n",
    "output,text_evidence, json = pipeline.generate(None) # Right now, FeverousRetriever doesn't support an input table\n",
    "\n",
    "#output, text_evidence = generator.generate(output)\n",
    "\n",
    "for i,(o,e) in enumerate(zip(output,text_evidence)):\n",
    "    print(f'Claim {i}: ')\n",
    "    print('Generated: ', o)\n",
    "    print('Evidence : ', e)"
   ]
  },
  {
   "cell_type": "code",
   "execution_count": 2,
   "metadata": {
    "pycharm": {
     "name": "#%%\n"
    }
   },
   "outputs": [],
   "source": []
  }
 ],
 "metadata": {
  "kernelspec": {
   "name": "python3",
   "language": "python",
   "display_name": "Python 3 (ipykernel)"
  },
  "language_info": {
   "codemirror_mode": {
    "name": "ipython",
    "version": 3
   },
   "file_extension": ".py",
   "mimetype": "text/x-python",
   "name": "python",
   "nbconvert_exporter": "python",
   "pygments_lexer": "ipython3",
   "version": "3.8.10"
  }
 },
 "nbformat": 4,
 "nbformat_minor": 1
}