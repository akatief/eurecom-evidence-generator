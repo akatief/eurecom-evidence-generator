{
 "cells": [
  {
   "cell_type": "markdown",
   "metadata": {
    "collapsed": true,
    "pycharm": {
     "name": "#%% md\n"
    }
   },
   "source": [
    "### Pipeline test ###\n",
    "\n",
    "In this notebook we will try a possible textual claim generation to be implemented later as part of the package"
   ]
  },
  {
   "cell_type": "code",
   "execution_count": 1,
   "outputs": [
    {
     "name": "stderr",
     "output_type": "stream",
     "text": [
      "Since the GPL-licensed package `unidecode` is not installed, using Python's `unicodedata` package which yields worse results.\n",
      "2022-05-17 15:22:12.848696: W tensorflow/stream_executor/platform/default/dso_loader.cc:64] Could not load dynamic library 'libcudart.so.11.0'; dlerror: libcudart.so.11.0: cannot open shared object file: No such file or directory\n",
      "2022-05-17 15:22:12.848720: I tensorflow/stream_executor/cuda/cudart_stub.cc:29] Ignore above cudart dlerror if you do not have a GPU set up on your machine.\n"
     ]
    },
    {
     "data": {
      "text/plain": "hydra.initialize()"
     },
     "execution_count": 1,
     "metadata": {},
     "output_type": "execute_result"
    }
   ],
   "source": [
    "from hydra.core.global_hydra import GlobalHydra\n",
    "from hydra import initialize,compose\n",
    "from src.evidence import FeverousRetrieverRandom\n",
    "from src.pipeline import ClaimGeneratorPipeline\n",
    "from src.claim import FeverousGenerator\n",
    "from src.claim import ToTToGenerator\n",
    "from src.claim import TextualClaim\n",
    "import numpy as np\n",
    "import tensorflow_text\n",
    "import json\n",
    "import tensorflow as tf\n",
    "\n",
    "tf.get_logger().setLevel('ERROR')\n",
    "GlobalHydra.instance().clear()\n",
    "initialize(config_path='../src/config/', job_name=\"test_app\")"
   ],
   "metadata": {
    "collapsed": false,
    "pycharm": {
     "name": "#%%\n"
    }
   }
  },
  {
   "cell_type": "code",
   "execution_count": 2,
   "outputs": [
    {
     "name": "stderr",
     "output_type": "stream",
     "text": [
      "2022-05-17 15:22:17.162642: I tensorflow/stream_executor/cuda/cuda_gpu_executor.cc:936] successful NUMA node read from SysFS had negative value (-1), but there must be at least one NUMA node, so returning NUMA node zero\n",
      "2022-05-17 15:22:17.163128: W tensorflow/stream_executor/platform/default/dso_loader.cc:64] Could not load dynamic library 'libcudart.so.11.0'; dlerror: libcudart.so.11.0: cannot open shared object file: No such file or directory\n",
      "2022-05-17 15:22:17.163169: W tensorflow/stream_executor/platform/default/dso_loader.cc:64] Could not load dynamic library 'libcublas.so.11'; dlerror: libcublas.so.11: cannot open shared object file: No such file or directory\n",
      "2022-05-17 15:22:17.163205: W tensorflow/stream_executor/platform/default/dso_loader.cc:64] Could not load dynamic library 'libcublasLt.so.11'; dlerror: libcublasLt.so.11: cannot open shared object file: No such file or directory\n",
      "2022-05-17 15:22:17.164642: W tensorflow/stream_executor/platform/default/dso_loader.cc:64] Could not load dynamic library 'libcusolver.so.11'; dlerror: libcusolver.so.11: cannot open shared object file: No such file or directory\n",
      "2022-05-17 15:22:17.164683: W tensorflow/stream_executor/platform/default/dso_loader.cc:64] Could not load dynamic library 'libcusparse.so.11'; dlerror: libcusparse.so.11: cannot open shared object file: No such file or directory\n",
      "2022-05-17 15:22:17.164740: W tensorflow/stream_executor/platform/default/dso_loader.cc:64] Could not load dynamic library 'libcudnn.so.8'; dlerror: libcudnn.so.8: cannot open shared object file: No such file or directory\n",
      "2022-05-17 15:22:17.164747: W tensorflow/core/common_runtime/gpu/gpu_device.cc:1850] Cannot dlopen some GPU libraries. Please make sure the missing libraries mentioned above are installed properly if you would like to use GPU. Follow the guide at https://www.tensorflow.org/install/gpu for how to download and setup the required libraries for your platform.\n",
      "Skipping registering GPU devices...\n",
      "2022-05-17 15:22:17.164945: I tensorflow/core/platform/cpu_feature_guard.cc:151] This TensorFlow binary is optimized with oneAPI Deep Neural Network Library (oneDNN) to use the following CPU instructions in performance-critical operations:  AVX2 FMA\n",
      "To enable them in other operations, rebuild TensorFlow with the appropriate compiler flags.\n",
      "ERROR logger 2022-05-17 15:22:29,954 | utils.py:30 | b'got Error \"TableExceptionType.NO_ENOUGH_COL\" for wikipage \"Lipprechterode\"'\n",
      "ERROR logger 2022-05-17 15:22:29,955 | utils.py:30 | b'got Error \"TableExceptionType.NO_ENOUGH_TBL\" for wikipage \"_title\"'\n",
      "ERROR logger 2022-05-17 15:22:29,956 | utils.py:30 | b'got Error \"TableExceptionType.NO_ENOUGH_COL\" for wikipage \"Ceylonthelphusa cavatrix\"'\n",
      "ERROR logger 2022-05-17 15:22:29,957 | utils.py:30 | b'got Error \"TableExceptionType.NO_ENOUGH_TBL\" for wikipage \"_title\"'\n",
      "ERROR logger 2022-05-17 15:22:29,958 | utils.py:30 | b'got Error \"TableExceptionType.NO_ENOUGH_COL\" for wikipage \"Bracha Peli\"'\n",
      "ERROR logger 2022-05-17 15:22:29,959 | utils.py:30 | b'got Error \"TableExceptionType.NO_ENOUGH_TBL\" for wikipage \"_title\"'\n",
      "ERROR logger 2022-05-17 15:22:29,960 | utils.py:30 | b'got Error \"TableExceptionType.NO_ENOUGH_COL\" for wikipage \"Ja\\xcc\\x81nos Gru\\xcc\\x88nn\"'\n",
      "ERROR logger 2022-05-17 15:22:29,961 | utils.py:30 | b'got Error \"TableExceptionType.NO_ENOUGH_COL\" for wikipage \"Ja\\xcc\\x81nos Gru\\xcc\\x88nn\"'\n",
      "ERROR logger 2022-05-17 15:22:29,962 | utils.py:30 | b'got Error \"TableExceptionType.NO_ENOUGH_TBL\" for wikipage \"_title\"'\n",
      "ERROR logger 2022-05-17 15:22:29,963 | utils.py:30 | b'got Error \"TableExceptionType.NO_ENOUGH_COL\" for wikipage \"Bread and Amphetamines\"'\n",
      "ERROR logger 2022-05-17 15:22:29,964 | utils.py:30 | b'got Error \"TableExceptionType.NO_ENOUGH_TBL\" for wikipage \"_title\"'\n",
      "ERROR logger 2022-05-17 15:22:29,965 | utils.py:30 | b'got Error \"TableExceptionType.NO_ENOUGH_COL\" for wikipage \"Instruments of Mercy\"'\n",
      "ERROR logger 2022-05-17 15:22:29,966 | utils.py:30 | b'got Error \"TableExceptionType.NO_ENOUGH_COL\" for wikipage \"Instruments of Mercy\"'\n",
      "ERROR logger 2022-05-17 15:22:29,967 | utils.py:30 | b'got Error \"TableExceptionType.NO_ENOUGH_TBL\" for wikipage \"_title\"'\n",
      "/home/akatief/PycharmProjects/eurecom-evidence-generator/venv/lib/python3.9/site-packages/spacy/util.py:275: UserWarning: [W031] Model 'en_core_web_sm' (2.2.0) requires spaCy v2.2 and is incompatible with the current spaCy version (2.3.2). This may lead to unexpected results or runtime errors. To resolve this, download a newer compatible model or retrain your custom model with the current spaCy version. For more details and available updates, run: python -m spacy validate\n",
      "  warnings.warn(warn_msg)\n",
      "ERROR logger 2022-05-17 15:22:30,536 | utils.py:30 | b'got Error \"TableExceptionType.NO_ENOUGH_COL\" for wikipage \"Lipprechterode\"'\n",
      "ERROR logger 2022-05-17 15:22:30,536 | utils.py:30 | b'got Error \"TableExceptionType.NO_ENOUGH_TBL\" for wikipage \"_title\"'\n",
      "ERROR logger 2022-05-17 15:22:30,537 | utils.py:30 | b'got Error \"TableExceptionType.NO_ENOUGH_COL\" for wikipage \"Ceylonthelphusa cavatrix\"'\n",
      "ERROR logger 2022-05-17 15:22:30,538 | utils.py:30 | b'got Error \"TableExceptionType.NO_ENOUGH_TBL\" for wikipage \"_title\"'\n",
      "ERROR logger 2022-05-17 15:22:30,539 | utils.py:30 | b'got Error \"TableExceptionType.NO_ENOUGH_COL\" for wikipage \"Bracha Peli\"'\n",
      "ERROR logger 2022-05-17 15:22:30,539 | utils.py:30 | b'got Error \"TableExceptionType.NO_ENOUGH_TBL\" for wikipage \"_title\"'\n",
      "ERROR logger 2022-05-17 15:22:30,540 | utils.py:30 | b'got Error \"TableExceptionType.NO_ENOUGH_COL\" for wikipage \"Ja\\xcc\\x81nos Gru\\xcc\\x88nn\"'\n",
      "ERROR logger 2022-05-17 15:22:30,541 | utils.py:30 | b'got Error \"TableExceptionType.NO_ENOUGH_COL\" for wikipage \"Ja\\xcc\\x81nos Gru\\xcc\\x88nn\"'\n",
      "ERROR logger 2022-05-17 15:22:30,541 | utils.py:30 | b'got Error \"TableExceptionType.NO_ENOUGH_TBL\" for wikipage \"_title\"'\n",
      "ERROR logger 2022-05-17 15:22:30,543 | utils.py:30 | b'got Error \"TableExceptionType.NO_ENOUGH_COL\" for wikipage \"Bread and Amphetamines\"'\n",
      "ERROR logger 2022-05-17 15:22:30,543 | utils.py:30 | b'got Error \"TableExceptionType.NO_ENOUGH_TBL\" for wikipage \"_title\"'\n",
      "ERROR logger 2022-05-17 15:22:30,544 | utils.py:30 | b'got Error \"TableExceptionType.NO_ENOUGH_COL\" for wikipage \"Instruments of Mercy\"'\n",
      "ERROR logger 2022-05-17 15:22:30,545 | utils.py:30 | b'got Error \"TableExceptionType.NO_ENOUGH_COL\" for wikipage \"Instruments of Mercy\"'\n",
      "ERROR logger 2022-05-17 15:22:30,545 | utils.py:30 | b'got Error \"TableExceptionType.NO_ENOUGH_TBL\" for wikipage \"_title\"'\n",
      "INFO logger 2022-05-17 15:22:30,548 | claim_generator.py:27 |  && 1936 United States Senate election in Nebraska && Party | George W. Norris (incumbent) (write-in) && 1936 United States Senate election in Nebraska && Candidate | 36,882 && 1936 United States Senate election in Nebraska && Votes\n",
      "INFO logger 2022-05-17 15:22:40,765 | claim_generator.py:32 | in the 1936 united states Senate election in Nebraska, norris secured 36,882 votes.\n",
      "INFO logger 2022-05-17 15:22:40,766 | claim_generator.py:27 |  && 1936 United States Senate election in Nebraska && Party | George W. Norris (incumbent) (write-in) && 1936 United States Senate election in Nebraska && Candidate | 36,882 && 1936 United States Senate election in Nebraska && Votes\n",
      "INFO logger 2022-05-17 15:22:46,810 | claim_generator.py:32 | in the 1936 united states Senate election in Nebraska, norris secured 36,882 votes.\n",
      "INFO logger 2022-05-17 15:22:46,811 | claim_generator.py:27 |  && 1936 United States Senate election in Nebraska && Party | Democratic && 1936 United States Senate election in Nebraska && Party | George W. Norris (incumbent) (write-in) && 1936 United States Senate election in Nebraska && Candidate | 36,882 && 1936 United States Senate election in Nebraska && Votes\n",
      "INFO logger 2022-05-17 15:22:51,846 | claim_generator.py:32 | in the 1936 united states Senate election in Nebraska, no votes were cast.\n",
      "INFO logger 2022-05-17 15:22:51,847 | claim_generator.py:27 |  && 1936 United States Senate election in Nebraska && Party | Democratic && 1936 United States Senate election in Nebraska && Party | George W. Norris (incumbent) (write-in) && 1936 United States Senate election in Nebraska && Candidate | 36,882 && 1936 United States Senate election in Nebraska && Votes\n",
      "INFO logger 2022-05-17 15:22:56,891 | claim_generator.py:32 | in the 1936 united states Senate election in Nebraska, no votes were cast.\n"
     ]
    }
   ],
   "source": [
    "cfg = compose(config_name=\"config_pipeline\")\n",
    "rng = np.random.default_rng(cfg.seed)\n",
    "retrievers = [FeverousRetrieverRandom(p_dataset='../datasets/filtereddb_st_2.db',\n",
    "                                    num_positive=1,\n",
    "                                    num_negative=1,\n",
    "                                    wrong_cell=2,\n",
    "                                    table_per_page=cfg.table_per_page,\n",
    "                                    evidence_per_table=cfg.evidence_per_table,\n",
    "                                    column_per_table=cfg.column_per_table,\n",
    "                                    seed=23,\n",
    "                                    key_strategy=strat\n",
    "                                    ) for strat in ['entity','random']]\n",
    "\n",
    "\n",
    "generator1 = FeverousGenerator(encoding='compact', model_path='../models/t5_train_feverous.bin')\n",
    "#generator2 = ToTToGenerator(encoding='totto', model_path='../models/exported_totto_large/1648208035')\n",
    "generator3 = ToTToGenerator(encoding='compact', model_path='../models/exported_totto_large/1648208035', verbose=True)\n",
    "\n",
    "generators = [generator3]\n",
    "\n",
    "pipeline = ClaimGeneratorPipeline([retrievers,generators])\n",
    "claims = pipeline.generate() # Right now, FeverousRetriever doesn't support an input table\n",
    "\n",
    "\n",
    "json_evidence = TextualClaim.to_json(claims)\n",
    "with open('data.json', 'w', encoding='utf-8') as f:\n",
    "    json.dump(json_evidence, f, ensure_ascii=False, indent=4)\n",
    "\n"
   ],
   "metadata": {
    "collapsed": false,
    "pycharm": {
     "name": "#%%\n"
    }
   }
  },
  {
   "cell_type": "code",
   "execution_count": 2,
   "metadata": {
    "pycharm": {
     "name": "#%%\n"
    }
   },
   "outputs": [],
   "source": []
  }
 ],
 "metadata": {
  "kernelspec": {
   "name": "python3",
   "language": "python",
   "display_name": "Python 3 (ipykernel)"
  },
  "language_info": {
   "codemirror_mode": {
    "name": "ipython",
    "version": 3
   },
   "file_extension": ".py",
   "mimetype": "text/x-python",
   "name": "python",
   "nbconvert_exporter": "python",
   "pygments_lexer": "ipython3",
   "version": "3.8.10"
  }
 },
 "nbformat": 4,
 "nbformat_minor": 1
}